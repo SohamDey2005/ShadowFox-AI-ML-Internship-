{
  "nbformat": 4,
  "nbformat_minor": 0,
  "metadata": {
    "colab": {
      "provenance": []
    },
    "kernelspec": {
      "name": "python3",
      "display_name": "Python 3"
    },
    "language_info": {
      "name": "python"
    }
  },
  "cells": [
    {
      "cell_type": "code",
      "execution_count": null,
      "metadata": {
        "id": "TPbf_nbe0BIW"
      },
      "outputs": [],
      "source": [
        "# Installing Dependencies\n",
        "!pip install transformers datasets torch scikit-learn matplotlib pandas --quiet"
      ]
    },
    {
      "cell_type": "code",
      "source": [
        "# Importing Libraries\n",
        "import torch\n",
        "import numpy as np\n",
        "import pandas as pd\n",
        "import matplotlib.pyplot as plt\n",
        "from transformers import AutoTokenizer, AutoModelForSequenceClassification\n",
        "from datasets import load_dataset\n",
        "from sklearn.metrics import accuracy_score, classification_report, confusion_matrix"
      ],
      "metadata": {
        "id": "jCDaxB-p0CNF"
      },
      "execution_count": null,
      "outputs": []
    },
    {
      "cell_type": "code",
      "source": [
        "# Using GPU if Available\n",
        "device = torch.device(\"cuda\" if torch.cuda.is_available() else \"cpu\")\n",
        "print(\"Using device:\", device)"
      ],
      "metadata": {
        "colab": {
          "base_uri": "https://localhost:8080/"
        },
        "id": "XXn9y0ZL0FIv",
        "outputId": "c2e4ccc9-0a3a-4252-f05a-d97a0ac671a1"
      },
      "execution_count": null,
      "outputs": [
        {
          "output_type": "stream",
          "name": "stdout",
          "text": [
            "Using device: cpu\n"
          ]
        }
      ]
    },
    {
      "cell_type": "code",
      "source": [
        "# Loading Pretrained Model and Tokenizer\n",
        "model_name = \"distilbert-base-uncased-finetuned-sst-2-english\"\n",
        "tokenizer = AutoTokenizer.from_pretrained(model_name)\n",
        "model = AutoModelForSequenceClassification.from_pretrained(model_name).to(device)\n",
        "model.eval()"
      ],
      "metadata": {
        "colab": {
          "base_uri": "https://localhost:8080/"
        },
        "id": "a3yc6Ksevebi",
        "outputId": "383dd2a3-ae3e-4cf9-d588-a34d816911c3"
      },
      "execution_count": null,
      "outputs": [
        {
          "output_type": "execute_result",
          "data": {
            "text/plain": [
              "DistilBertForSequenceClassification(\n",
              "  (distilbert): DistilBertModel(\n",
              "    (embeddings): Embeddings(\n",
              "      (word_embeddings): Embedding(30522, 768, padding_idx=0)\n",
              "      (position_embeddings): Embedding(512, 768)\n",
              "      (LayerNorm): LayerNorm((768,), eps=1e-12, elementwise_affine=True)\n",
              "      (dropout): Dropout(p=0.1, inplace=False)\n",
              "    )\n",
              "    (transformer): Transformer(\n",
              "      (layer): ModuleList(\n",
              "        (0-5): 6 x TransformerBlock(\n",
              "          (attention): DistilBertSdpaAttention(\n",
              "            (dropout): Dropout(p=0.1, inplace=False)\n",
              "            (q_lin): Linear(in_features=768, out_features=768, bias=True)\n",
              "            (k_lin): Linear(in_features=768, out_features=768, bias=True)\n",
              "            (v_lin): Linear(in_features=768, out_features=768, bias=True)\n",
              "            (out_lin): Linear(in_features=768, out_features=768, bias=True)\n",
              "          )\n",
              "          (sa_layer_norm): LayerNorm((768,), eps=1e-12, elementwise_affine=True)\n",
              "          (ffn): FFN(\n",
              "            (dropout): Dropout(p=0.1, inplace=False)\n",
              "            (lin1): Linear(in_features=768, out_features=3072, bias=True)\n",
              "            (lin2): Linear(in_features=3072, out_features=768, bias=True)\n",
              "            (activation): GELUActivation()\n",
              "          )\n",
              "          (output_layer_norm): LayerNorm((768,), eps=1e-12, elementwise_affine=True)\n",
              "        )\n",
              "      )\n",
              "    )\n",
              "  )\n",
              "  (pre_classifier): Linear(in_features=768, out_features=768, bias=True)\n",
              "  (classifier): Linear(in_features=768, out_features=2, bias=True)\n",
              "  (dropout): Dropout(p=0.2, inplace=False)\n",
              ")"
            ]
          },
          "metadata": {},
          "execution_count": 25
        }
      ]
    },
    {
      "cell_type": "code",
      "source": [
        "# Loading SST-2 Validation Dataset for Demo\n",
        "dataset = load_dataset(\"glue\", \"sst2\", split=\"validation\")\n",
        "dataset = dataset.rename_column(\"sentence\", \"text\")\n",
        "print(dataset)"
      ],
      "metadata": {
        "colab": {
          "base_uri": "https://localhost:8080/"
        },
        "id": "WquPWroG0Vxm",
        "outputId": "c933ee9d-5a59-4af9-cb71-77ea6852b2a8"
      },
      "execution_count": null,
      "outputs": [
        {
          "output_type": "stream",
          "name": "stdout",
          "text": [
            "Dataset({\n",
            "    features: ['text', 'label', 'idx'],\n",
            "    num_rows: 872\n",
            "})\n"
          ]
        }
      ]
    },
    {
      "cell_type": "code",
      "source": [
        "# Prediction function\n",
        "def predict_batch(texts, tokenizer, model, device):\n",
        "    encodings = tokenizer(texts, truncation=True, padding=True, return_tensors=\"pt\").to(device)\n",
        "    with torch.no_grad():\n",
        "        outputs = model(**encodings)\n",
        "        probs = torch.softmax(outputs.logits, dim=-1).cpu().numpy()\n",
        "        preds = probs.argmax(axis=1)\n",
        "    return preds, probs"
      ],
      "metadata": {
        "id": "uDW2J2HE0cOq"
      },
      "execution_count": null,
      "outputs": []
    },
    {
      "cell_type": "code",
      "source": [
        "# Running Predictions (Limiting to 200 Samples for Quick Run)\n",
        "texts = dataset[\"text\"]\n",
        "labels = dataset[\"label\"]\n",
        "preds, probs = predict_batch(texts[:200], tokenizer, model, device)"
      ],
      "metadata": {
        "id": "44WZhS6uxIF_"
      },
      "execution_count": null,
      "outputs": []
    },
    {
      "cell_type": "code",
      "source": [
        "# Evaluation\n",
        "print(\"Accuracy:\", accuracy_score(labels[:200], preds))\n",
        "print(\"\\nClassification Report:\\n\", classification_report(labels[:200], preds))\n",
        "cm = confusion_matrix(labels[:200], preds)\n",
        "print(\"Confusion Matrix:\\n\", cm)"
      ],
      "metadata": {
        "colab": {
          "base_uri": "https://localhost:8080/"
        },
        "id": "6e56aDhg0fsn",
        "outputId": "41148127-1bcf-4f39-b1e9-51c2cfcb77f0"
      },
      "execution_count": null,
      "outputs": [
        {
          "output_type": "stream",
          "name": "stdout",
          "text": [
            "Accuracy: 0.91\n",
            "\n",
            "Classification Report:\n",
            "               precision    recall  f1-score   support\n",
            "\n",
            "           0       0.96      0.86      0.91       101\n",
            "           1       0.87      0.96      0.91        99\n",
            "\n",
            "    accuracy                           0.91       200\n",
            "   macro avg       0.91      0.91      0.91       200\n",
            "weighted avg       0.91      0.91      0.91       200\n",
            "\n",
            "Confusion Matrix:\n",
            " [[87 14]\n",
            " [ 4 95]]\n"
          ]
        }
      ]
    },
    {
      "cell_type": "code",
      "source": [
        "# Confusion Matrix\n",
        "plt.figure(figsize=(5,4))\n",
        "plt.imshow(cm, cmap=\"Blues\")\n",
        "plt.title(\"Confusion Matrix\")\n",
        "plt.colorbar()\n",
        "plt.xlabel(\"Predicted\")\n",
        "plt.ylabel(\"True\")\n",
        "plt.show()"
      ],
      "metadata": {
        "colab": {
          "base_uri": "https://localhost:8080/",
          "height": 410
        },
        "id": "UFVoH6ov0iOP",
        "outputId": "2af051c0-9952-44e4-8c1c-d43b18846452"
      },
      "execution_count": null,
      "outputs": [
        {
          "output_type": "display_data",
          "data": {
            "text/plain": [
              "<Figure size 500x400 with 2 Axes>"
            ],
            "image/png": "[encoded data removed]"
          },
          "metadata": {}
        }
      ]
    },
    {
      "cell_type": "code",
      "source": [
        "# Confidence Histogram (For Positive Class)\n",
        "plt.figure(figsize=(6,4))\n",
        "plt.hist(probs[:,1], bins=20)\n",
        "plt.title(\"Prediction Confidence for Positive Class\")\n",
        "plt.xlabel(\"Probability\")\n",
        "plt.ylabel(\"Count\")\n",
        "plt.show()"
      ],
      "metadata": {
        "colab": {
          "base_uri": "https://localhost:8080/",
          "height": 410
        },
        "id": "hdyAPDC9xkGG",
        "outputId": "7fd4d00f-70c2-4de9-951d-21f9861daaaf"
      },
      "execution_count": null,
      "outputs": [
        {
          "output_type": "display_data",
          "data": {
            "text/plain": [
              "<Figure size 600x400 with 1 Axes>"
            ],
            "image/png": "[encoded data removed]"
          },
          "metadata": {}
        }
      ]
    },
    {
      "cell_type": "code",
      "source": [
        "# Testing with own Sentence\n",
        "def predict_text(text, tokenizer, model, device):\n",
        "    enc = tokenizer([text], truncation=True, padding=True, return_tensors=\"pt\").to(device)\n",
        "    with torch.no_grad():\n",
        "        outputs = model(**enc)\n",
        "        probs = torch.softmax(outputs.logits, dim=-1).cpu().numpy()[0]\n",
        "    pred = probs.argmax()\n",
        "    return pred, probs"
      ],
      "metadata": {
        "id": "jpysVEPS4DWC"
      },
      "execution_count": null,
      "outputs": []
    },
    {
      "cell_type": "code",
      "source": [
        "# Trying own Input\n",
        "user_text = input(\"Enter a sentence to analyze: \")\n",
        "pred, probs = predict_text(user_text, tokenizer, model, device)"
      ],
      "metadata": {
        "id": "tj5Dkfxix12L",
        "colab": {
          "base_uri": "https://localhost:8080/"
        },
        "outputId": "523aed3d-9b0e-43cc-804c-2d21bc67be13"
      },
      "execution_count": null,
      "outputs": [
        {
          "name": "stdout",
          "output_type": "stream",
          "text": [
            "Enter a sentence to analyze: This is the worst service I have ever received.\n"
          ]
        }
      ]
    },
    {
      "cell_type": "code",
      "source": [
        "# Formating\n",
        "labels_map = {0: \"Negative\", 1: \"Positive\"}\n",
        "confidence = probs[pred] * 100\n",
        "print(f\"Text: {user_text}\")\n",
        "print(f\"Prediction: {labels_map[pred]} ({confidence:.2f}%)\")"
      ],
      "metadata": {
        "colab": {
          "base_uri": "https://localhost:8080/"
        },
        "id": "9NeEYVwdx3oU",
        "outputId": "4089b648-cdd1-47c0-f9e3-dbb98d3d9554"
      },
      "execution_count": null,
      "outputs": [
        {
          "output_type": "stream",
          "name": "stdout",
          "text": [
            "Text: This is the worst service I have ever received.\n",
            "Prediction: Negative (99.98%)\n"
          ]
        }
      ]
    },
    {
      "cell_type": "code",
      "source": [],
      "metadata": {
        "id": "7hVnqqQhN__p"
      },
      "execution_count": null,
      "outputs": []
    }
  ]
}